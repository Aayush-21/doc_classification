{
 "cells": [
  {
   "cell_type": "code",
   "execution_count": 124,
   "id": "45765225",
   "metadata": {},
   "outputs": [],
   "source": [
    "import pandas as pd\n",
    "import numpy as np\n",
    "\n",
    "import re\n",
    "\n",
    "from sklearn.model_selection import train_test_split\n",
    "from sklearn.feature_extraction.text import CountVectorizer\n",
    "from sklearn.naive_bayes import MultinomialNB\n",
    "from sklearn.metrics import accuracy_score\n",
    "from sklearn.metrics import classification_report"
   ]
  },
  {
   "cell_type": "code",
   "execution_count": 125,
   "id": "e02903dd",
   "metadata": {},
   "outputs": [],
   "source": [
    "# obtained by tesseract lib\n",
    "\n",
    "data = pd.read_csv('final_data.csv')\n",
    "data = pd.DataFrame(data[\"Text\"])"
   ]
  },
  {
   "cell_type": "code",
   "execution_count": 126,
   "id": "47d153ac",
   "metadata": {},
   "outputs": [
    {
     "data": {
      "text/plain": [
       "(3650, 1)"
      ]
     },
     "execution_count": 126,
     "metadata": {},
     "output_type": "execute_result"
    }
   ],
   "source": [
    "data.shape"
   ]
  },
  {
   "cell_type": "code",
   "execution_count": 127,
   "id": "09a4ac73",
   "metadata": {},
   "outputs": [
    {
     "data": {
      "text/html": [
       "<div>\n",
       "<style scoped>\n",
       "    .dataframe tbody tr th:only-of-type {\n",
       "        vertical-align: middle;\n",
       "    }\n",
       "\n",
       "    .dataframe tbody tr th {\n",
       "        vertical-align: top;\n",
       "    }\n",
       "\n",
       "    .dataframe thead th {\n",
       "        text-align: right;\n",
       "    }\n",
       "</style>\n",
       "<table border=\"1\" class=\"dataframe\">\n",
       "  <thead>\n",
       "    <tr style=\"text-align: right;\">\n",
       "      <th></th>\n",
       "      <th>Text</th>\n",
       "    </tr>\n",
       "  </thead>\n",
       "  <tbody>\n",
       "    <tr>\n",
       "      <th>0</th>\n",
       "      <td>0  INDIA NON JUDICIAL §        Government of K...</td>\n",
       "    </tr>\n",
       "    <tr>\n",
       "      <th>1</th>\n",
       "      <td>0  INDIA NON JUDICIAL §        Government of K...</td>\n",
       "    </tr>\n",
       "    <tr>\n",
       "      <th>2</th>\n",
       "      <td>0  INDIA NON JUDICIAL §        Government of K...</td>\n",
       "    </tr>\n",
       "    <tr>\n",
       "      <th>3</th>\n",
       "      <td>0  INDIA NON JUDICIAL §        Government of K...</td>\n",
       "    </tr>\n",
       "    <tr>\n",
       "      <th>4</th>\n",
       "      <td>0  INDIA NON JUDICIAL §        Government of K...</td>\n",
       "    </tr>\n",
       "  </tbody>\n",
       "</table>\n",
       "</div>"
      ],
      "text/plain": [
       "                                                Text\n",
       "0  0  INDIA NON JUDICIAL §        Government of K...\n",
       "1  0  INDIA NON JUDICIAL §        Government of K...\n",
       "2  0  INDIA NON JUDICIAL §        Government of K...\n",
       "3  0  INDIA NON JUDICIAL §        Government of K...\n",
       "4  0  INDIA NON JUDICIAL §        Government of K..."
      ]
     },
     "execution_count": 127,
     "metadata": {},
     "output_type": "execute_result"
    }
   ],
   "source": [
    "data.head()"
   ]
  },
  {
   "cell_type": "code",
   "execution_count": 128,
   "id": "4900aa64",
   "metadata": {},
   "outputs": [
    {
     "data": {
      "text/html": [
       "<div>\n",
       "<style scoped>\n",
       "    .dataframe tbody tr th:only-of-type {\n",
       "        vertical-align: middle;\n",
       "    }\n",
       "\n",
       "    .dataframe tbody tr th {\n",
       "        vertical-align: top;\n",
       "    }\n",
       "\n",
       "    .dataframe thead th {\n",
       "        text-align: right;\n",
       "    }\n",
       "</style>\n",
       "<table border=\"1\" class=\"dataframe\">\n",
       "  <thead>\n",
       "    <tr style=\"text-align: right;\">\n",
       "      <th></th>\n",
       "      <th>Text</th>\n",
       "    </tr>\n",
       "  </thead>\n",
       "  <tbody>\n",
       "    <tr>\n",
       "      <th>3645</th>\n",
       "      <td>9 THE AINL StORE1234 SOMEWHERE RDPOWAY, CALIFO...</td>\n",
       "    </tr>\n",
       "    <tr>\n",
       "      <th>3646</th>\n",
       "      <td>9 THE AINL StORE1234 SOMEWHERE RDPOWAY, CALIFO...</td>\n",
       "    </tr>\n",
       "    <tr>\n",
       "      <th>3647</th>\n",
       "      <td>9 THE AINL StORE1234 SOMEWHERE RDPOWAY, CALIFO...</td>\n",
       "    </tr>\n",
       "    <tr>\n",
       "      <th>3648</th>\n",
       "      <td>9 THE AINL StORE1234 SOMEWHERE ROPOWAY, CALIFO...</td>\n",
       "    </tr>\n",
       "    <tr>\n",
       "      <th>3649</th>\n",
       "      <td>9 THE AINL StORE1234 SOMEWHERE ROPOWAY, CALIFO...</td>\n",
       "    </tr>\n",
       "  </tbody>\n",
       "</table>\n",
       "</div>"
      ],
      "text/plain": [
       "                                                   Text\n",
       "3645  9 THE AINL StORE1234 SOMEWHERE RDPOWAY, CALIFO...\n",
       "3646  9 THE AINL StORE1234 SOMEWHERE RDPOWAY, CALIFO...\n",
       "3647  9 THE AINL StORE1234 SOMEWHERE RDPOWAY, CALIFO...\n",
       "3648  9 THE AINL StORE1234 SOMEWHERE ROPOWAY, CALIFO...\n",
       "3649  9 THE AINL StORE1234 SOMEWHERE ROPOWAY, CALIFO..."
      ]
     },
     "execution_count": 128,
     "metadata": {},
     "output_type": "execute_result"
    }
   ],
   "source": [
    "data.tail()"
   ]
  },
  {
   "cell_type": "code",
   "execution_count": 129,
   "id": "3e9d3577",
   "metadata": {},
   "outputs": [
    {
     "data": {
      "text/plain": [
       "Text    0\n",
       "dtype: int64"
      ]
     },
     "execution_count": 129,
     "metadata": {},
     "output_type": "execute_result"
    }
   ],
   "source": [
    "data.isnull().sum()"
   ]
  },
  {
   "cell_type": "code",
   "execution_count": 130,
   "id": "a2e6ffeb",
   "metadata": {},
   "outputs": [],
   "source": [
    "def get_label(text):\n",
    "    k=''\n",
    "    for i in text:\n",
    "        if i==' ':\n",
    "            if len(k)>2:\n",
    "                return 8\n",
    "            return int(k)\n",
    "        k+=i"
   ]
  },
  {
   "cell_type": "code",
   "execution_count": 131,
   "id": "0c4df97a",
   "metadata": {},
   "outputs": [],
   "source": [
    "data['label'] = data['Text'].apply(lambda x: get_label(x))\n",
    "data[\"Text\"] = data['Text'].str[1:]"
   ]
  },
  {
   "cell_type": "code",
   "execution_count": 132,
   "id": "f65bcc28",
   "metadata": {},
   "outputs": [
    {
     "data": {
      "text/html": [
       "<div>\n",
       "<style scoped>\n",
       "    .dataframe tbody tr th:only-of-type {\n",
       "        vertical-align: middle;\n",
       "    }\n",
       "\n",
       "    .dataframe tbody tr th {\n",
       "        vertical-align: top;\n",
       "    }\n",
       "\n",
       "    .dataframe thead th {\n",
       "        text-align: right;\n",
       "    }\n",
       "</style>\n",
       "<table border=\"1\" class=\"dataframe\">\n",
       "  <thead>\n",
       "    <tr style=\"text-align: right;\">\n",
       "      <th></th>\n",
       "      <th>Text</th>\n",
       "      <th>label</th>\n",
       "    </tr>\n",
       "  </thead>\n",
       "  <tbody>\n",
       "    <tr>\n",
       "      <th>0</th>\n",
       "      <td>INDIA NON JUDICIAL §        Government of Ka...</td>\n",
       "      <td>0</td>\n",
       "    </tr>\n",
       "    <tr>\n",
       "      <th>1</th>\n",
       "      <td>INDIA NON JUDICIAL §        Government of Ka...</td>\n",
       "      <td>0</td>\n",
       "    </tr>\n",
       "    <tr>\n",
       "      <th>2</th>\n",
       "      <td>INDIA NON JUDICIAL §        Government of Ka...</td>\n",
       "      <td>0</td>\n",
       "    </tr>\n",
       "    <tr>\n",
       "      <th>3</th>\n",
       "      <td>INDIA NON JUDICIAL §        Government of Ka...</td>\n",
       "      <td>0</td>\n",
       "    </tr>\n",
       "    <tr>\n",
       "      <th>4</th>\n",
       "      <td>INDIA NON JUDICIAL §        Government of Ka...</td>\n",
       "      <td>0</td>\n",
       "    </tr>\n",
       "  </tbody>\n",
       "</table>\n",
       "</div>"
      ],
      "text/plain": [
       "                                                Text  label\n",
       "0    INDIA NON JUDICIAL §        Government of Ka...      0\n",
       "1    INDIA NON JUDICIAL §        Government of Ka...      0\n",
       "2    INDIA NON JUDICIAL §        Government of Ka...      0\n",
       "3    INDIA NON JUDICIAL §        Government of Ka...      0\n",
       "4    INDIA NON JUDICIAL §        Government of Ka...      0"
      ]
     },
     "execution_count": 132,
     "metadata": {},
     "output_type": "execute_result"
    }
   ],
   "source": [
    "data.head()"
   ]
  },
  {
   "cell_type": "code",
   "execution_count": 133,
   "id": "ba577bae",
   "metadata": {},
   "outputs": [],
   "source": [
    "#data.to_csv(r'D:\\coding\\doc2\\doc_classification\\xyz.csv', index = False, header=True)"
   ]
  },
  {
   "cell_type": "code",
   "execution_count": 134,
   "id": "6b8826b8",
   "metadata": {},
   "outputs": [
    {
     "data": {
      "text/plain": [
       "<AxesSubplot:>"
      ]
     },
     "execution_count": 134,
     "metadata": {},
     "output_type": "execute_result"
    },
    {
     "data": {
      "image/png": "[encoded data removed]",
      "text/plain": [
       "<Figure size 640x480 with 1 Axes>"
      ]
     },
     "metadata": {},
     "output_type": "display_data"
    }
   ],
   "source": [
    "data.label.value_counts().plot(kind='bar')"
   ]
  },
  {
   "cell_type": "code",
   "execution_count": 135,
   "id": "aac6d183",
   "metadata": {},
   "outputs": [
    {
     "data": {
      "text/html": [
       "<div>\n",
       "<style scoped>\n",
       "    .dataframe tbody tr th:only-of-type {\n",
       "        vertical-align: middle;\n",
       "    }\n",
       "\n",
       "    .dataframe tbody tr th {\n",
       "        vertical-align: top;\n",
       "    }\n",
       "\n",
       "    .dataframe thead th {\n",
       "        text-align: right;\n",
       "    }\n",
       "</style>\n",
       "<table border=\"1\" class=\"dataframe\">\n",
       "  <thead>\n",
       "    <tr style=\"text-align: right;\">\n",
       "      <th></th>\n",
       "      <th>Text</th>\n",
       "      <th>label</th>\n",
       "    </tr>\n",
       "  </thead>\n",
       "  <tbody>\n",
       "    <tr>\n",
       "      <th>0</th>\n",
       "      <td>INDIA NON JUDICIAL §        Government of Ka...</td>\n",
       "      <td>0</td>\n",
       "    </tr>\n",
       "    <tr>\n",
       "      <th>1</th>\n",
       "      <td>INDIA NON JUDICIAL §        Government of Ka...</td>\n",
       "      <td>0</td>\n",
       "    </tr>\n",
       "    <tr>\n",
       "      <th>2</th>\n",
       "      <td>INDIA NON JUDICIAL §        Government of Ka...</td>\n",
       "      <td>0</td>\n",
       "    </tr>\n",
       "    <tr>\n",
       "      <th>3</th>\n",
       "      <td>INDIA NON JUDICIAL §        Government of Ka...</td>\n",
       "      <td>0</td>\n",
       "    </tr>\n",
       "    <tr>\n",
       "      <th>4</th>\n",
       "      <td>INDIA NON JUDICIAL §        Government of Ka...</td>\n",
       "      <td>0</td>\n",
       "    </tr>\n",
       "  </tbody>\n",
       "</table>\n",
       "</div>"
      ],
      "text/plain": [
       "                                                Text  label\n",
       "0    INDIA NON JUDICIAL §        Government of Ka...      0\n",
       "1    INDIA NON JUDICIAL §        Government of Ka...      0\n",
       "2    INDIA NON JUDICIAL §        Government of Ka...      0\n",
       "3    INDIA NON JUDICIAL §        Government of Ka...      0\n",
       "4    INDIA NON JUDICIAL §        Government of Ka...      0"
      ]
     },
     "execution_count": 135,
     "metadata": {},
     "output_type": "execute_result"
    }
   ],
   "source": [
    "data.head()"
   ]
  },
  {
   "cell_type": "code",
   "execution_count": 136,
   "id": "cac2136b",
   "metadata": {},
   "outputs": [
    {
     "data": {
      "text/plain": [
       "(3650, 2)"
      ]
     },
     "execution_count": 136,
     "metadata": {},
     "output_type": "execute_result"
    }
   ],
   "source": [
    "mapping = {0:'address_proof', 1:\"bank_statements\",2:\"business_proof\",3:\"employment_proof\",4:'fund_raising',5:'identity_proof',6:'invoices',7:'personal_finance_statement',8:'power_of_attorney',9:'receipts',10:'salary_slip',11:'tax_return'}\n",
    "data['label'].replace(mapping,inplace = True)\n",
    "\n",
    "\n",
    "data.shape"
   ]
  },
  {
   "cell_type": "code",
   "execution_count": 137,
   "id": "2597d487",
   "metadata": {},
   "outputs": [
    {
     "data": {
      "text/html": [
       "<div>\n",
       "<style scoped>\n",
       "    .dataframe tbody tr th:only-of-type {\n",
       "        vertical-align: middle;\n",
       "    }\n",
       "\n",
       "    .dataframe tbody tr th {\n",
       "        vertical-align: top;\n",
       "    }\n",
       "\n",
       "    .dataframe thead th {\n",
       "        text-align: right;\n",
       "    }\n",
       "</style>\n",
       "<table border=\"1\" class=\"dataframe\">\n",
       "  <thead>\n",
       "    <tr style=\"text-align: right;\">\n",
       "      <th></th>\n",
       "      <th>Text</th>\n",
       "      <th>label</th>\n",
       "    </tr>\n",
       "  </thead>\n",
       "  <tbody>\n",
       "    <tr>\n",
       "      <th>0</th>\n",
       "      <td>INDIA NON JUDICIAL §        Government of Ka...</td>\n",
       "      <td>address_proof</td>\n",
       "    </tr>\n",
       "    <tr>\n",
       "      <th>1</th>\n",
       "      <td>INDIA NON JUDICIAL §        Government of Ka...</td>\n",
       "      <td>address_proof</td>\n",
       "    </tr>\n",
       "    <tr>\n",
       "      <th>2</th>\n",
       "      <td>INDIA NON JUDICIAL §        Government of Ka...</td>\n",
       "      <td>address_proof</td>\n",
       "    </tr>\n",
       "    <tr>\n",
       "      <th>3</th>\n",
       "      <td>INDIA NON JUDICIAL §        Government of Ka...</td>\n",
       "      <td>address_proof</td>\n",
       "    </tr>\n",
       "    <tr>\n",
       "      <th>4</th>\n",
       "      <td>INDIA NON JUDICIAL §        Government of Ka...</td>\n",
       "      <td>address_proof</td>\n",
       "    </tr>\n",
       "  </tbody>\n",
       "</table>\n",
       "</div>"
      ],
      "text/plain": [
       "                                                Text          label\n",
       "0    INDIA NON JUDICIAL §        Government of Ka...  address_proof\n",
       "1    INDIA NON JUDICIAL §        Government of Ka...  address_proof\n",
       "2    INDIA NON JUDICIAL §        Government of Ka...  address_proof\n",
       "3    INDIA NON JUDICIAL §        Government of Ka...  address_proof\n",
       "4    INDIA NON JUDICIAL §        Government of Ka...  address_proof"
      ]
     },
     "execution_count": 137,
     "metadata": {},
     "output_type": "execute_result"
    }
   ],
   "source": [
    "data.head()"
   ]
  },
  {
   "cell_type": "code",
   "execution_count": 138,
   "id": "2b6c3709",
   "metadata": {},
   "outputs": [
    {
     "data": {
      "text/html": [
       "<div>\n",
       "<style scoped>\n",
       "    .dataframe tbody tr th:only-of-type {\n",
       "        vertical-align: middle;\n",
       "    }\n",
       "\n",
       "    .dataframe tbody tr th {\n",
       "        vertical-align: top;\n",
       "    }\n",
       "\n",
       "    .dataframe thead th {\n",
       "        text-align: right;\n",
       "    }\n",
       "</style>\n",
       "<table border=\"1\" class=\"dataframe\">\n",
       "  <thead>\n",
       "    <tr style=\"text-align: right;\">\n",
       "      <th></th>\n",
       "      <th>Text</th>\n",
       "      <th>label</th>\n",
       "    </tr>\n",
       "  </thead>\n",
       "  <tbody>\n",
       "    <tr>\n",
       "      <th>3645</th>\n",
       "      <td>THE AINL StORE1234 SOMEWHERE RDPOWAY, CALIFOR...</td>\n",
       "      <td>receipts</td>\n",
       "    </tr>\n",
       "    <tr>\n",
       "      <th>3646</th>\n",
       "      <td>THE AINL StORE1234 SOMEWHERE RDPOWAY, CALIFOR...</td>\n",
       "      <td>receipts</td>\n",
       "    </tr>\n",
       "    <tr>\n",
       "      <th>3647</th>\n",
       "      <td>THE AINL StORE1234 SOMEWHERE RDPOWAY, CALIFOR...</td>\n",
       "      <td>receipts</td>\n",
       "    </tr>\n",
       "    <tr>\n",
       "      <th>3648</th>\n",
       "      <td>THE AINL StORE1234 SOMEWHERE ROPOWAY, CALIFOR...</td>\n",
       "      <td>receipts</td>\n",
       "    </tr>\n",
       "    <tr>\n",
       "      <th>3649</th>\n",
       "      <td>THE AINL StORE1234 SOMEWHERE ROPOWAY, CALIFOR...</td>\n",
       "      <td>receipts</td>\n",
       "    </tr>\n",
       "  </tbody>\n",
       "</table>\n",
       "</div>"
      ],
      "text/plain": [
       "                                                   Text     label\n",
       "3645   THE AINL StORE1234 SOMEWHERE RDPOWAY, CALIFOR...  receipts\n",
       "3646   THE AINL StORE1234 SOMEWHERE RDPOWAY, CALIFOR...  receipts\n",
       "3647   THE AINL StORE1234 SOMEWHERE RDPOWAY, CALIFOR...  receipts\n",
       "3648   THE AINL StORE1234 SOMEWHERE ROPOWAY, CALIFOR...  receipts\n",
       "3649   THE AINL StORE1234 SOMEWHERE ROPOWAY, CALIFOR...  receipts"
      ]
     },
     "execution_count": 138,
     "metadata": {},
     "output_type": "execute_result"
    }
   ],
   "source": [
    "data.tail()"
   ]
  },
  {
   "cell_type": "code",
   "execution_count": 139,
   "id": "2200334c",
   "metadata": {},
   "outputs": [],
   "source": [
    "mapping = {0:'address_proof', 1:\"bank_statements\",2:\"business_proof\",3:\"employment_proof\",4:'fund_raising',5:'identity_proof',6:'invoices',7:'personal_finance_statement',8:'power_of_attorney',9:'receipts',10:'salary_slip',11:'tax_return'}\n",
    "data['label'].replace(mapping,inplace = True)"
   ]
  },
  {
   "cell_type": "code",
   "execution_count": 140,
   "id": "ab7922eb",
   "metadata": {},
   "outputs": [
    {
     "data": {
      "text/plain": [
       "<AxesSubplot:>"
      ]
     },
     "execution_count": 140,
     "metadata": {},
     "output_type": "execute_result"
    },
    {
     "data": {
      "image/png": "[encoded data removed]",
      "text/plain": [
       "<Figure size 640x480 with 1 Axes>"
      ]
     },
     "metadata": {},
     "output_type": "display_data"
    }
   ],
   "source": [
    "data.label.value_counts().plot(kind='bar')"
   ]
  },
  {
   "cell_type": "code",
   "execution_count": 141,
   "id": "15b7e7e8",
   "metadata": {},
   "outputs": [
    {
     "data": {
      "text/plain": [
       "tax_return                    704\n",
       "personal_finance_statement    554\n",
       "bank_statements               422\n",
       "receipts                      407\n",
       "invoices                      304\n",
       "salary_slip                   242\n",
       "power_of_attorney             230\n",
       "employment_proof              220\n",
       "address_proof                 215\n",
       "identity_proof                176\n",
       "business_proof                110\n",
       "fund_raising                   66\n",
       "Name: label, dtype: int64"
      ]
     },
     "execution_count": 141,
     "metadata": {},
     "output_type": "execute_result"
    }
   ],
   "source": [
    "data.label.value_counts()"
   ]
  },
  {
   "cell_type": "code",
   "execution_count": 142,
   "id": "be260c9f",
   "metadata": {},
   "outputs": [],
   "source": [
    "data['Text'] = data['Text'].replace(r'[^A-Za-z0-9 ]+', '')\n",
    "data['Text'] = data['Text'].apply (lambda x: re.sub(r\"((?<=^)|(?<= )).((?=$)|(?= ))\", '', x).strip())\n",
    "\n",
    "# replacing the punctuations and the other sindle lettered words\n",
    "# "
   ]
  },
  {
   "cell_type": "code",
   "execution_count": 143,
   "id": "9db5841a",
   "metadata": {},
   "outputs": [],
   "source": [
    "vectorizer = CountVectorizer(stop_words='english') \n",
    "\n",
    "# for counting the frequencies of words"
   ]
  },
  {
   "cell_type": "code",
   "execution_count": 144,
   "id": "28cef5a9",
   "metadata": {},
   "outputs": [],
   "source": [
    "x = data['Text']\n",
    "y = data['label']"
   ]
  },
  {
   "cell_type": "code",
   "execution_count": 145,
   "id": "1fcff96c",
   "metadata": {},
   "outputs": [],
   "source": [
    "x_train, x_test, y_train,y_test = train_test_split(x, y, test_size=0.2, random_state = 88)\n",
    "\n",
    "\n",
    "#"
   ]
  },
  {
   "cell_type": "code",
   "execution_count": 160,
   "id": "da89841b",
   "metadata": {},
   "outputs": [
    {
     "data": {
      "text/plain": [
       "<2920x12081 sparse matrix of type '<class 'numpy.int64'>'\n",
       "\twith 258993 stored elements in Compressed Sparse Row format>"
      ]
     },
     "execution_count": 160,
     "metadata": {},
     "output_type": "execute_result"
    }
   ],
   "source": [
    "x_vec = vectorizer.fit_transform(x_train)\n",
    "x_vec"
   ]
  },
  {
   "cell_type": "code",
   "execution_count": 161,
   "id": "9ead670c",
   "metadata": {},
   "outputs": [],
   "source": [
    "model = MultinomialNB()"
   ]
  },
  {
   "cell_type": "code",
   "execution_count": 162,
   "id": "9e7b43a8",
   "metadata": {},
   "outputs": [
    {
     "data": {
      "text/html": [
       "<style>#sk-container-id-4 {color: black;background-color: white;}#sk-container-id-4 pre{padding: 0;}#sk-container-id-4 div.sk-toggleable {background-color: white;}#sk-container-id-4 label.sk-toggleable__label {cursor: pointer;display: block;width: 100%;margin-bottom: 0;padding: 0.3em;box-sizing: border-box;text-align: center;}#sk-container-id-4 label.sk-toggleable__label-arrow:before {content: \"▸\";float: left;margin-right: 0.25em;color: #696969;}#sk-container-id-4 label.sk-toggleable__label-arrow:hover:before {color: black;}#sk-container-id-4 div.sk-estimator:hover label.sk-toggleable__label-arrow:before {color: black;}#sk-container-id-4 div.sk-toggleable__content {max-height: 0;max-width: 0;overflow: hidden;text-align: left;background-color: #f0f8ff;}#sk-container-id-4 div.sk-toggleable__content pre {margin: 0.2em;color: black;border-radius: 0.25em;background-color: #f0f8ff;}#sk-container-id-4 input.sk-toggleable__control:checked~div.sk-toggleable__content {max-height: 200px;max-width: 100%;overflow: auto;}#sk-container-id-4 input.sk-toggleable__control:checked~label.sk-toggleable__label-arrow:before {content: \"▾\";}#sk-container-id-4 div.sk-estimator input.sk-toggleable__control:checked~label.sk-toggleable__label {background-color: #d4ebff;}#sk-container-id-4 div.sk-label input.sk-toggleable__control:checked~label.sk-toggleable__label {background-color: #d4ebff;}#sk-container-id-4 input.sk-hidden--visually {border: 0;clip: rect(1px 1px 1px 1px);clip: rect(1px, 1px, 1px, 1px);height: 1px;margin: -1px;overflow: hidden;padding: 0;position: absolute;width: 1px;}#sk-container-id-4 div.sk-estimator {font-family: monospace;background-color: #f0f8ff;border: 1px dotted black;border-radius: 0.25em;box-sizing: border-box;margin-bottom: 0.5em;}#sk-container-id-4 div.sk-estimator:hover {background-color: #d4ebff;}#sk-container-id-4 div.sk-parallel-item::after {content: \"\";width: 100%;border-bottom: 1px solid gray;flex-grow: 1;}#sk-container-id-4 div.sk-label:hover label.sk-toggleable__label {background-color: #d4ebff;}#sk-container-id-4 div.sk-serial::before {content: \"\";position: absolute;border-left: 1px solid gray;box-sizing: border-box;top: 0;bottom: 0;left: 50%;z-index: 0;}#sk-container-id-4 div.sk-serial {display: flex;flex-direction: column;align-items: center;background-color: white;padding-right: 0.2em;padding-left: 0.2em;position: relative;}#sk-container-id-4 div.sk-item {position: relative;z-index: 1;}#sk-container-id-4 div.sk-parallel {display: flex;align-items: stretch;justify-content: center;background-color: white;position: relative;}#sk-container-id-4 div.sk-item::before, #sk-container-id-4 div.sk-parallel-item::before {content: \"\";position: absolute;border-left: 1px solid gray;box-sizing: border-box;top: 0;bottom: 0;left: 50%;z-index: -1;}#sk-container-id-4 div.sk-parallel-item {display: flex;flex-direction: column;z-index: 1;position: relative;background-color: white;}#sk-container-id-4 div.sk-parallel-item:first-child::after {align-self: flex-end;width: 50%;}#sk-container-id-4 div.sk-parallel-item:last-child::after {align-self: flex-start;width: 50%;}#sk-container-id-4 div.sk-parallel-item:only-child::after {width: 0;}#sk-container-id-4 div.sk-dashed-wrapped {border: 1px dashed gray;margin: 0 0.4em 0.5em 0.4em;box-sizing: border-box;padding-bottom: 0.4em;background-color: white;}#sk-container-id-4 div.sk-label label {font-family: monospace;font-weight: bold;display: inline-block;line-height: 1.2em;}#sk-container-id-4 div.sk-label-container {text-align: center;}#sk-container-id-4 div.sk-container {/* jupyter's `normalize.less` sets `[hidden] { display: none; }` but bootstrap.min.css set `[hidden] { display: none !important; }` so we also need the `!important` here to be able to override the default hidden behavior on the sphinx rendered scikit-learn.org. See: https://github.com/scikit-learn/scikit-learn/issues/21755 */display: inline-block !important;position: relative;}#sk-container-id-4 div.sk-text-repr-fallback {display: none;}</style><div id=\"sk-container-id-4\" class=\"sk-top-container\"><div class=\"sk-text-repr-fallback\"><pre>MultinomialNB()</pre><b>In a Jupyter environment, please rerun this cell to show the HTML representation or trust the notebook. <br />On GitHub, the HTML representation is unable to render, please try loading this page with nbviewer.org.</b></div><div class=\"sk-container\" hidden><div class=\"sk-item\"><div class=\"sk-estimator sk-toggleable\"><input class=\"sk-toggleable__control sk-hidden--visually\" id=\"sk-estimator-id-4\" type=\"checkbox\" checked><label for=\"sk-estimator-id-4\" class=\"sk-toggleable__label sk-toggleable__label-arrow\">MultinomialNB</label><div class=\"sk-toggleable__content\"><pre>MultinomialNB()</pre></div></div></div></div></div>"
      ],
      "text/plain": [
       "MultinomialNB()"
      ]
     },
     "execution_count": 162,
     "metadata": {},
     "output_type": "execute_result"
    }
   ],
   "source": [
    "model.fit(x_vec,y_train)"
   ]
  },
  {
   "cell_type": "code",
   "execution_count": 164,
   "id": "7dc850f4",
   "metadata": {},
   "outputs": [
    {
     "data": {
      "text/plain": [
       "array(['receipts', 'tax_return', 'tax_return', 'invoices',\n",
       "       'personal_finance_statement', 'tax_return', 'bank_statements',\n",
       "       'bank_statements', 'receipts', 'receipts', 'identity_proof',\n",
       "       'invoices', 'receipts', 'employment_proof', 'tax_return',\n",
       "       'power_of_attorney', 'invoices', 'salary_slip', 'tax_return',\n",
       "       'employment_proof', 'invoices', 'tax_return', 'tax_return',\n",
       "       'personal_finance_statement', 'bank_statements', 'tax_return',\n",
       "       'bank_statements', 'salary_slip', 'invoices',\n",
       "       'personal_finance_statement', 'identity_proof',\n",
       "       'power_of_attorney', 'receipts', 'tax_return', 'bank_statements',\n",
       "       'tax_return', 'receipts', 'personal_finance_statement',\n",
       "       'personal_finance_statement', 'personal_finance_statement',\n",
       "       'identity_proof', 'power_of_attorney',\n",
       "       'personal_finance_statement', 'address_proof',\n",
       "       'personal_finance_statement', 'tax_return', 'tax_return',\n",
       "       'power_of_attorney', 'identity_proof',\n",
       "       'personal_finance_statement', 'salary_slip', 'tax_return',\n",
       "       'fund_raising', 'tax_return', 'invoices',\n",
       "       'personal_finance_statement', 'business_proof',\n",
       "       'personal_finance_statement', 'tax_return', 'invoices',\n",
       "       'bank_statements', 'employment_proof', 'receipts',\n",
       "       'personal_finance_statement', 'tax_return', 'identity_proof',\n",
       "       'tax_return', 'receipts', 'power_of_attorney', 'bank_statements',\n",
       "       'address_proof', 'bank_statements', 'tax_return', 'invoices',\n",
       "       'receipts', 'power_of_attorney', 'invoices', 'employment_proof',\n",
       "       'tax_return', 'invoices', 'tax_return', 'receipts',\n",
       "       'personal_finance_statement', 'address_proof', 'receipts',\n",
       "       'personal_finance_statement', 'power_of_attorney', 'invoices',\n",
       "       'tax_return', 'address_proof', 'tax_return', 'employment_proof',\n",
       "       'salary_slip', 'employment_proof', 'personal_finance_statement',\n",
       "       'personal_finance_statement', 'tax_return', 'invoices',\n",
       "       'fund_raising', 'employment_proof', 'personal_finance_statement',\n",
       "       'bank_statements', 'personal_finance_statement', 'salary_slip',\n",
       "       'bank_statements', 'salary_slip', 'bank_statements',\n",
       "       'personal_finance_statement', 'receipts', 'salary_slip',\n",
       "       'bank_statements', 'invoices', 'power_of_attorney', 'tax_return',\n",
       "       'bank_statements', 'tax_return', 'receipts', 'employment_proof',\n",
       "       'salary_slip', 'bank_statements', 'invoices', 'employment_proof',\n",
       "       'employment_proof', 'bank_statements', 'tax_return', 'tax_return',\n",
       "       'address_proof', 'employment_proof', 'bank_statements',\n",
       "       'tax_return', 'power_of_attorney', 'tax_return', 'tax_return',\n",
       "       'bank_statements', 'tax_return', 'power_of_attorney',\n",
       "       'personal_finance_statement', 'bank_statements', 'bank_statements',\n",
       "       'employment_proof', 'employment_proof', 'power_of_attorney',\n",
       "       'employment_proof', 'salary_slip', 'receipts', 'tax_return',\n",
       "       'business_proof', 'bank_statements', 'employment_proof',\n",
       "       'employment_proof', 'receipts', 'personal_finance_statement',\n",
       "       'tax_return', 'bank_statements', 'tax_return', 'power_of_attorney',\n",
       "       'personal_finance_statement', 'employment_proof', 'tax_return',\n",
       "       'tax_return', 'fund_raising', 'receipts',\n",
       "       'personal_finance_statement', 'employment_proof', 'receipts',\n",
       "       'salary_slip', 'bank_statements', 'business_proof', 'tax_return',\n",
       "       'salary_slip', 'bank_statements', 'receipts', 'power_of_attorney',\n",
       "       'tax_return', 'personal_finance_statement', 'salary_slip',\n",
       "       'personal_finance_statement', 'personal_finance_statement',\n",
       "       'tax_return', 'identity_proof', 'invoices', 'employment_proof',\n",
       "       'personal_finance_statement', 'salary_slip', 'tax_return',\n",
       "       'bank_statements', 'bank_statements', 'tax_return', 'receipts',\n",
       "       'personal_finance_statement', 'salary_slip',\n",
       "       'personal_finance_statement', 'personal_finance_statement',\n",
       "       'personal_finance_statement', 'salary_slip', 'receipts',\n",
       "       'receipts', 'personal_finance_statement', 'bank_statements',\n",
       "       'address_proof', 'employment_proof', 'tax_return',\n",
       "       'personal_finance_statement', 'employment_proof', 'salary_slip',\n",
       "       'bank_statements', 'invoices', 'personal_finance_statement',\n",
       "       'receipts', 'receipts', 'power_of_attorney', 'tax_return',\n",
       "       'tax_return', 'employment_proof', 'tax_return', 'address_proof',\n",
       "       'tax_return', 'tax_return', 'invoices', 'bank_statements',\n",
       "       'tax_return', 'personal_finance_statement',\n",
       "       'personal_finance_statement', 'bank_statements', 'invoices',\n",
       "       'business_proof', 'receipts', 'tax_return', 'employment_proof',\n",
       "       'personal_finance_statement', 'tax_return', 'identity_proof',\n",
       "       'receipts', 'tax_return', 'receipts', 'tax_return', 'tax_return',\n",
       "       'business_proof', 'employment_proof', 'power_of_attorney',\n",
       "       'invoices', 'receipts', 'bank_statements', 'tax_return',\n",
       "       'receipts', 'bank_statements', 'receipts', 'tax_return',\n",
       "       'tax_return', 'identity_proof', 'invoices', 'receipts',\n",
       "       'personal_finance_statement', 'address_proof', 'receipts',\n",
       "       'invoices', 'salary_slip', 'personal_finance_statement',\n",
       "       'salary_slip', 'tax_return', 'power_of_attorney', 'tax_return',\n",
       "       'personal_finance_statement', 'tax_return', 'employment_proof',\n",
       "       'invoices', 'power_of_attorney', 'personal_finance_statement',\n",
       "       'identity_proof', 'business_proof', 'personal_finance_statement',\n",
       "       'tax_return', 'receipts', 'receipts', 'tax_return',\n",
       "       'address_proof', 'invoices', 'tax_return', 'tax_return',\n",
       "       'bank_statements', 'employment_proof', 'salary_slip',\n",
       "       'address_proof', 'invoices', 'business_proof', 'identity_proof',\n",
       "       'receipts', 'invoices', 'bank_statements', 'bank_statements',\n",
       "       'tax_return', 'tax_return', 'tax_return', 'business_proof',\n",
       "       'employment_proof', 'employment_proof', 'address_proof',\n",
       "       'personal_finance_statement', 'personal_finance_statement',\n",
       "       'bank_statements', 'invoices', 'personal_finance_statement',\n",
       "       'employment_proof', 'receipts', 'salary_slip', 'invoices',\n",
       "       'tax_return', 'power_of_attorney', 'tax_return', 'salary_slip',\n",
       "       'personal_finance_statement', 'address_proof', 'salary_slip',\n",
       "       'bank_statements', 'tax_return', 'invoices', 'business_proof',\n",
       "       'salary_slip', 'address_proof', 'personal_finance_statement',\n",
       "       'bank_statements', 'personal_finance_statement', 'receipts',\n",
       "       'personal_finance_statement', 'bank_statements',\n",
       "       'power_of_attorney', 'business_proof', 'employment_proof',\n",
       "       'personal_finance_statement', 'salary_slip', 'address_proof',\n",
       "       'personal_finance_statement', 'salary_slip', 'salary_slip',\n",
       "       'tax_return', 'salary_slip', 'invoices', 'tax_return',\n",
       "       'tax_return', 'receipts', 'power_of_attorney', 'receipts',\n",
       "       'salary_slip', 'personal_finance_statement', 'business_proof',\n",
       "       'personal_finance_statement', 'invoices', 'tax_return',\n",
       "       'tax_return', 'business_proof', 'invoices', 'address_proof',\n",
       "       'invoices', 'receipts', 'tax_return', 'identity_proof',\n",
       "       'tax_return', 'employment_proof', 'personal_finance_statement',\n",
       "       'fund_raising', 'tax_return', 'tax_return',\n",
       "       'personal_finance_statement', 'tax_return', 'tax_return',\n",
       "       'tax_return', 'salary_slip', 'personal_finance_statement',\n",
       "       'address_proof', 'personal_finance_statement', 'salary_slip',\n",
       "       'bank_statements', 'tax_return', 'invoices', 'invoices',\n",
       "       'bank_statements', 'power_of_attorney',\n",
       "       'personal_finance_statement', 'personal_finance_statement',\n",
       "       'personal_finance_statement', 'employment_proof',\n",
       "       'bank_statements', 'tax_return', 'bank_statements', 'tax_return',\n",
       "       'bank_statements', 'identity_proof', 'tax_return',\n",
       "       'personal_finance_statement', 'tax_return', 'power_of_attorney',\n",
       "       'identity_proof', 'tax_return', 'salary_slip', 'invoices',\n",
       "       'tax_return', 'personal_finance_statement', 'address_proof',\n",
       "       'tax_return', 'salary_slip', 'power_of_attorney',\n",
       "       'employment_proof', 'tax_return', 'fund_raising', 'invoices',\n",
       "       'salary_slip', 'personal_finance_statement', 'employment_proof',\n",
       "       'identity_proof', 'fund_raising', 'power_of_attorney',\n",
       "       'bank_statements', 'employment_proof',\n",
       "       'personal_finance_statement', 'address_proof', 'invoices',\n",
       "       'bank_statements', 'invoices', 'address_proof', 'fund_raising',\n",
       "       'receipts', 'receipts', 'receipts', 'salary_slip',\n",
       "       'personal_finance_statement', 'tax_return',\n",
       "       'personal_finance_statement', 'tax_return', 'receipts',\n",
       "       'tax_return', 'tax_return', 'personal_finance_statement',\n",
       "       'invoices', 'business_proof', 'identity_proof', 'receipts',\n",
       "       'power_of_attorney', 'address_proof', 'identity_proof',\n",
       "       'address_proof', 'personal_finance_statement', 'business_proof',\n",
       "       'employment_proof', 'business_proof', 'invoices',\n",
       "       'bank_statements', 'personal_finance_statement', 'invoices',\n",
       "       'tax_return', 'personal_finance_statement',\n",
       "       'personal_finance_statement', 'bank_statements', 'tax_return',\n",
       "       'personal_finance_statement', 'invoices', 'employment_proof',\n",
       "       'receipts', 'receipts', 'salary_slip', 'tax_return',\n",
       "       'bank_statements', 'fund_raising', 'business_proof',\n",
       "       'employment_proof', 'personal_finance_statement',\n",
       "       'power_of_attorney', 'receipts', 'salary_slip', 'tax_return',\n",
       "       'receipts', 'salary_slip', 'address_proof', 'tax_return',\n",
       "       'personal_finance_statement', 'receipts', 'receipts', 'invoices',\n",
       "       'receipts', 'bank_statements', 'fund_raising',\n",
       "       'personal_finance_statement', 'tax_return', 'business_proof',\n",
       "       'salary_slip', 'salary_slip', 'receipts', 'power_of_attorney',\n",
       "       'tax_return', 'bank_statements', 'personal_finance_statement',\n",
       "       'salary_slip', 'employment_proof', 'salary_slip', 'tax_return',\n",
       "       'tax_return', 'invoices', 'receipts', 'salary_slip', 'invoices',\n",
       "       'bank_statements', 'personal_finance_statement', 'address_proof',\n",
       "       'receipts', 'receipts', 'tax_return', 'tax_return', 'receipts',\n",
       "       'bank_statements', 'personal_finance_statement', 'identity_proof',\n",
       "       'address_proof', 'tax_return', 'personal_finance_statement',\n",
       "       'tax_return', 'tax_return', 'salary_slip', 'power_of_attorney',\n",
       "       'bank_statements', 'identity_proof', 'salary_slip',\n",
       "       'power_of_attorney', 'bank_statements', 'tax_return',\n",
       "       'personal_finance_statement', 'receipts', 'receipts', 'tax_return',\n",
       "       'fund_raising', 'tax_return', 'personal_finance_statement',\n",
       "       'invoices', 'invoices', 'tax_return', 'power_of_attorney',\n",
       "       'receipts', 'address_proof', 'tax_return', 'tax_return',\n",
       "       'tax_return', 'power_of_attorney', 'tax_return', 'tax_return',\n",
       "       'power_of_attorney', 'bank_statements', 'tax_return',\n",
       "       'salary_slip', 'personal_finance_statement', 'salary_slip',\n",
       "       'business_proof', 'address_proof', 'address_proof', 'receipts',\n",
       "       'receipts', 'receipts', 'tax_return', 'address_proof',\n",
       "       'employment_proof', 'personal_finance_statement',\n",
       "       'personal_finance_statement', 'salary_slip',\n",
       "       'personal_finance_statement', 'personal_finance_statement',\n",
       "       'bank_statements', 'tax_return', 'address_proof',\n",
       "       'personal_finance_statement', 'tax_return', 'employment_proof',\n",
       "       'address_proof', 'power_of_attorney', 'receipts', 'identity_proof',\n",
       "       'personal_finance_statement', 'tax_return', 'salary_slip',\n",
       "       'invoices', 'personal_finance_statement',\n",
       "       'personal_finance_statement', 'invoices', 'tax_return',\n",
       "       'bank_statements', 'tax_return', 'personal_finance_statement',\n",
       "       'invoices', 'salary_slip', 'tax_return', 'receipts', 'receipts',\n",
       "       'personal_finance_statement', 'business_proof', 'tax_return',\n",
       "       'employment_proof', 'bank_statements', 'tax_return',\n",
       "       'fund_raising', 'personal_finance_statement', 'bank_statements',\n",
       "       'receipts', 'receipts', 'power_of_attorney', 'employment_proof',\n",
       "       'power_of_attorney', 'address_proof', 'receipts', 'identity_proof',\n",
       "       'personal_finance_statement', 'business_proof', 'identity_proof',\n",
       "       'bank_statements', 'personal_finance_statement', 'tax_return',\n",
       "       'tax_return', 'salary_slip', 'personal_finance_statement',\n",
       "       'power_of_attorney', 'bank_statements', 'invoices', 'fund_raising',\n",
       "       'employment_proof', 'tax_return', 'address_proof',\n",
       "       'business_proof', 'personal_finance_statement', 'receipts',\n",
       "       'receipts', 'bank_statements', 'tax_return', 'bank_statements',\n",
       "       'bank_statements', 'personal_finance_statement', 'tax_return',\n",
       "       'bank_statements', 'employment_proof', 'invoices', 'salary_slip',\n",
       "       'bank_statements', 'fund_raising', 'personal_finance_statement',\n",
       "       'personal_finance_statement', 'personal_finance_statement',\n",
       "       'receipts', 'personal_finance_statement', 'receipts',\n",
       "       'employment_proof', 'tax_return', 'tax_return', 'tax_return',\n",
       "       'personal_finance_statement', 'invoices', 'tax_return', 'receipts',\n",
       "       'personal_finance_statement', 'salary_slip',\n",
       "       'personal_finance_statement', 'address_proof', 'address_proof',\n",
       "       'identity_proof', 'bank_statements', 'tax_return',\n",
       "       'bank_statements', 'salary_slip', 'power_of_attorney', 'receipts',\n",
       "       'identity_proof', 'invoices', 'salary_slip', 'tax_return',\n",
       "       'bank_statements', 'personal_finance_statement', 'salary_slip',\n",
       "       'fund_raising', 'tax_return', 'tax_return', 'tax_return',\n",
       "       'tax_return', 'invoices', 'bank_statements',\n",
       "       'personal_finance_statement', 'receipts', 'receipts',\n",
       "       'personal_finance_statement', 'bank_statements', 'salary_slip',\n",
       "       'invoices', 'invoices', 'salary_slip', 'employment_proof',\n",
       "       'personal_finance_statement', 'tax_return',\n",
       "       'personal_finance_statement', 'power_of_attorney',\n",
       "       'bank_statements', 'tax_return', 'power_of_attorney',\n",
       "       'power_of_attorney', 'personal_finance_statement',\n",
       "       'power_of_attorney', 'bank_statements', 'tax_return', 'tax_return',\n",
       "       'bank_statements', 'tax_return', 'employment_proof',\n",
       "       'bank_statements', 'tax_return', 'identity_proof', 'tax_return',\n",
       "       'receipts', 'receipts', 'receipts', 'personal_finance_statement',\n",
       "       'tax_return', 'tax_return', 'invoices',\n",
       "       'personal_finance_statement', 'tax_return', 'power_of_attorney',\n",
       "       'employment_proof', 'tax_return', 'salary_slip', 'address_proof',\n",
       "       'tax_return', 'tax_return', 'tax_return', 'bank_statements',\n",
       "       'identity_proof', 'receipts', 'personal_finance_statement',\n",
       "       'tax_return', 'bank_statements'], dtype='<U26')"
      ]
     },
     "execution_count": 164,
     "metadata": {},
     "output_type": "execute_result"
    }
   ],
   "source": [
    "y_pred = model.predict(vectorizer.transform(x_test))\n",
    "y_pred"
   ]
  },
  {
   "cell_type": "code",
   "execution_count": 165,
   "id": "0c29993c",
   "metadata": {},
   "outputs": [
    {
     "name": "stdout",
     "output_type": "stream",
     "text": [
      "0.9602739726027397\n"
     ]
    }
   ],
   "source": [
    "print(accuracy_score(y_test,y_pred))"
   ]
  },
  {
   "cell_type": "code",
   "execution_count": 151,
   "id": "8a161b7d",
   "metadata": {},
   "outputs": [],
   "source": [
    "#classification_report(y,y_pred)"
   ]
  },
  {
   "cell_type": "code",
   "execution_count": 152,
   "id": "bade30e4",
   "metadata": {},
   "outputs": [
    {
     "data": {
      "text/html": [
       "<div>\n",
       "<style scoped>\n",
       "    .dataframe tbody tr th:only-of-type {\n",
       "        vertical-align: middle;\n",
       "    }\n",
       "\n",
       "    .dataframe tbody tr th {\n",
       "        vertical-align: top;\n",
       "    }\n",
       "\n",
       "    .dataframe thead th {\n",
       "        text-align: right;\n",
       "    }\n",
       "</style>\n",
       "<table border=\"1\" class=\"dataframe\">\n",
       "  <thead>\n",
       "    <tr style=\"text-align: right;\">\n",
       "      <th></th>\n",
       "      <th>Text</th>\n",
       "    </tr>\n",
       "  </thead>\n",
       "  <tbody>\n",
       "    <tr>\n",
       "      <th>0</th>\n",
       "      <td>STATE OF SOUTH CAROLINA _ ) AFFIDAVIT OF  RESI...</td>\n",
       "    </tr>\n",
       "  </tbody>\n",
       "</table>\n",
       "</div>"
      ],
      "text/plain": [
       "                                                Text\n",
       "0  STATE OF SOUTH CAROLINA _ ) AFFIDAVIT OF  RESI..."
      ]
     },
     "execution_count": 152,
     "metadata": {},
     "output_type": "execute_result"
    }
   ],
   "source": [
    "te = pd.read_csv('test.csv')\n",
    "te"
   ]
  },
  {
   "cell_type": "code",
   "execution_count": 153,
   "id": "f19e2754",
   "metadata": {},
   "outputs": [
    {
     "data": {
      "text/plain": [
       "Text    0\n",
       "dtype: int64"
      ]
     },
     "execution_count": 153,
     "metadata": {},
     "output_type": "execute_result"
    }
   ],
   "source": [
    "te.isnull().sum()"
   ]
  },
  {
   "cell_type": "code",
   "execution_count": 154,
   "id": "38fa75de",
   "metadata": {},
   "outputs": [
    {
     "data": {
      "text/plain": [
       "0    STATE OF SOUTH CAROLINA _ ) AFFIDAVIT OF  RESI...\n",
       "Name: Text, dtype: object"
      ]
     },
     "execution_count": 154,
     "metadata": {},
     "output_type": "execute_result"
    }
   ],
   "source": [
    "test = te['Text']\n",
    "test"
   ]
  },
  {
   "cell_type": "code",
   "execution_count": 155,
   "id": "8a3414cf",
   "metadata": {},
   "outputs": [
    {
     "data": {
      "text/plain": [
       "<1x12271 sparse matrix of type '<class 'numpy.int64'>'\n",
       "\twith 61 stored elements in Compressed Sparse Row format>"
      ]
     },
     "execution_count": 155,
     "metadata": {},
     "output_type": "execute_result"
    }
   ],
   "source": [
    "test_vec = vectorizer.transform(test)\n",
    "test_vec"
   ]
  },
  {
   "cell_type": "code",
   "execution_count": null,
   "id": "96db2d10",
   "metadata": {},
   "outputs": [],
   "source": []
  },
  {
   "cell_type": "code",
   "execution_count": 156,
   "id": "21437713",
   "metadata": {},
   "outputs": [
    {
     "data": {
      "text/plain": [
       "array(['address_proof'], dtype='<U26')"
      ]
     },
     "execution_count": 156,
     "metadata": {},
     "output_type": "execute_result"
    }
   ],
   "source": [
    "model.predict(vectorizer.transform(test))"
   ]
  },
  {
   "cell_type": "code",
   "execution_count": null,
   "id": "f9da9760",
   "metadata": {},
   "outputs": [],
   "source": []
  },
  {
   "cell_type": "code",
   "execution_count": 157,
   "id": "c2cc96fe",
   "metadata": {},
   "outputs": [],
   "source": [
    "# exporting the model"
   ]
  },
  {
   "cell_type": "code",
   "execution_count": 158,
   "id": "2ff10295",
   "metadata": {},
   "outputs": [],
   "source": [
    "import pickle"
   ]
  },
  {
   "cell_type": "code",
   "execution_count": 159,
   "id": "34b1f11b",
   "metadata": {},
   "outputs": [],
   "source": [
    "pickle.dump(model,open('naive_model.pkl','wb'))"
   ]
  },
  {
   "cell_type": "code",
   "execution_count": null,
   "id": "2e2e3b6c",
   "metadata": {},
   "outputs": [],
   "source": []
  }
 ],
 "metadata": {
  "kernelspec": {
   "display_name": "Python 3.9.13 64-bit (microsoft store)",
   "language": "python",
   "name": "python3"
  },
  "language_info": {
   "codemirror_mode": {
    "name": "ipython",
    "version": 3
   },
   "file_extension": ".py",
   "mimetype": "text/x-python",
   "name": "python",
   "nbconvert_exporter": "python",
   "pygments_lexer": "ipython3",
   "version": "3.9.13"
  },
  "vscode": {
   "interpreter": {
    "hash": "43a24ecce625020f2d6631fb4cfb730bba30d877e9fe9ec2e0d85cb5a52a2b64"
   }
  }
 },
 "nbformat": 4,
 "nbformat_minor": 5
}
